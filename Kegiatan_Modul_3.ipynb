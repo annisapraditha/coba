{
  "nbformat": 4,
  "nbformat_minor": 0,
  "metadata": {
    "colab": {
      "name": "Kegiatan Modul 3.ipynb",
      "provenance": [],
      "collapsed_sections": []
    },
    "kernelspec": {
      "name": "python3",
      "display_name": "Python 3"
    },
    "accelerator": "GPU"
  },
  "cells": [
    {
      "cell_type": "markdown",
      "metadata": {
        "id": "u6kTqqtESNnc"
      },
      "source": [
        "# **Kegiatan Modul 3**\n",
        "\n",
        "**Poin penilaian :**\n",
        "\n",
        "* Tingkat kesesuaian code\n",
        "* Tingkat kesesuaian output\n",
        "* Kesesuaian step preprocessing dan pemodelan\n",
        "* Kesesuaian jawaban dengan konten materi modul\n",
        "* Pemahaman materi tentang Dropout dan BatchNormalization\n",
        "* Dapat menerapkan semua konten materi dalam modul-modul sebelumnya\n",
        "* Kerapian kode program\n",
        "* Tidak ada error\n",
        "* Nilai Maksimal 100 poin"
      ]
    },
    {
      "cell_type": "markdown",
      "metadata": {
        "id": "-UXTCprbq3i8"
      },
      "source": [
        ""
      ]
    },
    {
      "cell_type": "markdown",
      "metadata": {
        "id": "-muSoJjnFt8y"
      },
      "source": [
        "## **Introduction**\n",
        "\n",
        "Dataset yang akan anda gunakan dalam kegiatan ini adalah dataset [Rock Paper Scissors](https://www.kaggle.com/drgfreeman/rockpaperscissors).  Demi mempermudah anda dalam mengerjakan modul ini maka akan sangat disarankan untuk menggunakan [google colab](https://colab.research.google.com/). Anda dapat menggunakan google colab untuk mendownload langsung dataset dari kaggle dan menyimpannya dalam google drive anda. Untuk kenyamanan dan ruang kerja yang besar akan lebih baik anda menggunakan email kampus untuk menyimpan dataset yang anda gunakan. Perhatikan langkah berikut untuk melakukan setting environment anda."
      ]
    },
    {
      "cell_type": "markdown",
      "metadata": {
        "id": "fLoYIWSbKgko"
      },
      "source": [
        "## **Get Your Dataset**\n",
        "\n",
        "* Mount drive terlebih dahulu\n",
        "\n",
        "* Untuk dapat mengakses dataset ini anda diharuskan memiliki akun kaggle. Jika belum memilikinya buat satu akun pribadi.\n",
        "\n",
        "* Download kaggle API.json kemudian upload dalam google drive anda.\n",
        "\n",
        "* Ubah lokasi direktori kerja anda ke direktori dimana anda menyimpan kaggle.json\n",
        "\n",
        "* Buka laman dataset kemudian Copy API Command.\n",
        "\n",
        "* Jalankan perintah untuk mendownload dataset dari kaggle menggunakan google colab.\n",
        "\n",
        "* Untuk selanjutnya pahami code dibawah dengan baik.\n",
        "\n",
        "* Gunakan tutorial berikut untuk lebih jelasnya : [Fetch Kaggle Dataset into Google Colab](https://medium.com/analytics-vidhya/how-to-fetch-kaggle-datasets-into-google-colab-ea682569851a)\n"
      ]
    },
    {
      "cell_type": "code",
      "metadata": {
        "id": "_iP7_H-5ubtG",
        "colab": {
          "base_uri": "https://localhost:8080/"
        },
        "outputId": "e5b094fa-8638-4b9c-9e0e-cb9cfc5de0e0"
      },
      "source": [
        "from google.colab import drive\n",
        "drive.mount('/content/drive')"
      ],
      "execution_count": null,
      "outputs": [
        {
          "output_type": "stream",
          "text": [
            "Mounted at /content/drive\n"
          ],
          "name": "stdout"
        }
      ]
    },
    {
      "cell_type": "code",
      "metadata": {
        "id": "fWkAcnefSPKI"
      },
      "source": [
        "# Define kaggle json path\n",
        "# Sesuaikan dengan path anda\n",
        "import os\n",
        "os.environ['KAGGLE_CONFIG_DIR'] = \"/content/drive/My Drive/RESEARCH CENTER/DATASETS\""
      ],
      "execution_count": null,
      "outputs": []
    },
    {
      "cell_type": "code",
      "metadata": {
        "id": "IPUJ-XM5S4Th",
        "colab": {
          "base_uri": "https://localhost:8080/"
        },
        "outputId": "ededd810-3a28-4dd5-9810-51522236adc4"
      },
      "source": [
        "# Ubah lokasi direktori kerja\n",
        "# Sesuaikan dengan path anda\n",
        "%cd /content/drive/My Drive/RESEARCH CENTER/DATASETS/"
      ],
      "execution_count": null,
      "outputs": [
        {
          "output_type": "stream",
          "text": [
            "/content/drive/My Drive/RESEARCH CENTER/DATASETS\n"
          ],
          "name": "stdout"
        }
      ]
    },
    {
      "cell_type": "markdown",
      "metadata": {
        "id": "g8tGIV-bTmOE"
      },
      "source": [
        "Cek apakah api sudah terbaca oleh sistem"
      ]
    },
    {
      "cell_type": "code",
      "metadata": {
        "id": "69Bbmd-TCGhh",
        "colab": {
          "resources": {
            "http://localhost:8080/nbextensions/google.colab/files.js": {
              "data": "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",
              "ok": true,
              "headers": [
                [
                  "content-type",
                  "application/javascript"
                ]
              ],
              "status": 200,
              "status_text": "OK"
            }
          },
          "base_uri": "https://localhost:8080/",
          "height": 89
        },
        "outputId": "6792771c-cf96-45fe-981a-b01e2b5b8e56"
      },
      "source": [
        "# Cek apakah api sudah terbaca oleh sistem\n",
        "from google.colab import files\n",
        "!ls  \n",
        "files.upload()"
      ],
      "execution_count": null,
      "outputs": [
        {
          "output_type": "stream",
          "text": [
            "kaggle.json  README_rpc-cv-images.txt  rps-cv-images  test   validation\n",
            "paper\t     rock\t\t       scissors       train\n"
          ],
          "name": "stdout"
        },
        {
          "output_type": "display_data",
          "data": {
            "text/html": [
              "\n",
              "     <input type=\"file\" id=\"files-9b1c76da-1019-45a3-baa7-d5eed01a9a4f\" name=\"files[]\" multiple disabled\n",
              "        style=\"border:none\" />\n",
              "     <output id=\"result-9b1c76da-1019-45a3-baa7-d5eed01a9a4f\">\n",
              "      Upload widget is only available when the cell has been executed in the\n",
              "      current browser session. Please rerun this cell to enable.\n",
              "      </output>\n",
              "      <script src=\"/nbextensions/google.colab/files.js\"></script> "
            ],
            "text/plain": [
              "<IPython.core.display.HTML object>"
            ]
          },
          "metadata": {
            "tags": []
          }
        },
        {
          "output_type": "execute_result",
          "data": {
            "text/plain": [
              "{}"
            ]
          },
          "metadata": {
            "tags": []
          },
          "execution_count": 3
        }
      ]
    },
    {
      "cell_type": "markdown",
      "metadata": {
        "id": "7wGGZC8vTX0A"
      },
      "source": [
        "* Paste API Command dari kaggle dataset yang telah anda copy sebelumnya dan tambahkan tanda seru didepannya.\n",
        "* Pastikan anda menggunakan akun google kampus untuk mendapatkan storage penyimpanan unlimited.\n",
        "* Lebih disarankan untuk menggunakan google colab karena proses download data lebih cepat dan stabil daripada download manual dan menggunakan jupyter notebook."
      ]
    },
    {
      "cell_type": "code",
      "metadata": {
        "id": "emSTR53KTGW9",
        "colab": {
          "base_uri": "https://localhost:8080/"
        },
        "outputId": "82a99998-d051-4b44-88ba-2056293c6338"
      },
      "source": [
        "!kaggle datasets download -d drgfreeman/rockpaperscissors"
      ],
      "execution_count": null,
      "outputs": [
        {
          "output_type": "stream",
          "text": [
            "Downloading rockpaperscissors.zip to /content/drive/My Drive/RESEARCH CENTER/DATASETS\n",
            " 94% 289M/306M [00:02<00:00, 131MB/s]\n",
            "100% 306M/306M [00:02<00:00, 123MB/s]\n"
          ],
          "name": "stdout"
        }
      ]
    },
    {
      "cell_type": "code",
      "metadata": {
        "id": "JcpagHVWbdDY",
        "colab": {
          "base_uri": "https://localhost:8080/"
        },
        "outputId": "d020367c-902c-40bb-9d71-d6290a63df29"
      },
      "source": [
        "# Cek isi direktori kerja dan memastikan dataset telah berhasil didownload.\n",
        "!ls"
      ],
      "execution_count": null,
      "outputs": [
        {
          "output_type": "stream",
          "text": [
            "kaggle.json  paper\t\t       rock\t      scissors\ttrain\n",
            "modul3.h5    README_rpc-cv-images.txt  rps-cv-images  test\tvalidation\n"
          ],
          "name": "stdout"
        }
      ]
    },
    {
      "cell_type": "code",
      "metadata": {
        "id": "3HDyNsR3bam4"
      },
      "source": [
        "# Ekstrak file dataset dan hapus file zip dataset agar tidak memakan banyak tempat.\n",
        "!unzip \\*.zip &> /dev/null && rm *.zip"
      ],
      "execution_count": null,
      "outputs": []
    },
    {
      "cell_type": "code",
      "metadata": {
        "id": "Vgw_k1zihmkK",
        "colab": {
          "base_uri": "https://localhost:8080/"
        },
        "outputId": "a452149b-e833-489b-a6af-f39c0dbe6f18"
      },
      "source": [
        "# Cek isi direktori kerja untuk memastikan dataset telah berhasil diekstrak.\n",
        "!ls"
      ],
      "execution_count": null,
      "outputs": [
        {
          "output_type": "stream",
          "text": [
            "kaggle.json  paper  README_rpc-cv-images.txt  rock  rps-cv-images  scissors\n"
          ],
          "name": "stdout"
        }
      ]
    },
    {
      "cell_type": "markdown",
      "metadata": {
        "id": "AHa7xcuP5vsU"
      },
      "source": [
        "## **Prepare Your Data**"
      ]
    },
    {
      "cell_type": "markdown",
      "metadata": {
        "id": "dPVmxstVUvyL"
      },
      "source": [
        "### **Soal 1** \n",
        "poin 5\n",
        "\n",
        "---\n",
        "Terlihat disana bahwa ada file dan folder baru yaitu : `paper, rock, scissors, README_rpc-cv-images.txt`. Untuk tujuan mempermudah aksesabilitas dataset maka akan lebih baik semua folder dataset yang merepresentasikan kelasnya tersebut disimpan dalam satu folder bernama `dataset`. Tugas anda adalah membuat folder baru dan memindahkan semua folder tersebut folder `dataset`.\n",
        "\n",
        "Selanjutnya, anda akan ditugaskan untuk melakukan splitting dataset menjadi 3 bagian yaitu `train, test, val` oleh sebab itu anda perlu tempat khusus untuk menyimpan ketiga folder tersebut agar penyimpanan anda lebih rapi. Buatlah sebuah folder baru bernama `rockpaperscissors` dan masukkan folder `dataset` kedalamnya. Nanti kita juga akan menyimpan folder `train, test, val` kedalam folder `rockpaperscissors`.\n",
        "\n",
        "*Ingat google colab juga menerima command berbasis linux.*"
      ]
    },
    {
      "cell_type": "code",
      "metadata": {
        "id": "d0m6kXUQR1US",
        "colab": {
          "base_uri": "https://localhost:8080/"
        },
        "outputId": "8550175e-61d0-44dc-a141-5f734de3e36a"
      },
      "source": [
        "# TULIS CODE ANDA DISINI\n",
        "%cd /content/drive/My Drive/RESEARCH CENTER\n",
        "!ls"
      ],
      "execution_count": null,
      "outputs": [
        {
          "output_type": "stream",
          "text": [
            "/content/drive/My Drive/RESEARCH CENTER\n",
            "DATASETS\n"
          ],
          "name": "stdout"
        }
      ]
    },
    {
      "cell_type": "markdown",
      "metadata": {
        "id": "6Y-OMhb1crH6"
      },
      "source": [
        "### **Soal 2**  *Opsional*\n",
        "\n",
        "poin 15\n",
        "\n",
        "---\n",
        "Sebelum dataset siap untuk dilakukan proses training anda perlu melakukan splitting dataset menjadi 3 bagian yaitu `train, test, val`. Data `train dan val` akan digunakan ketika anda melakukan training model. Dan data `test` akan anda gunakan ketika anda melakukan prediksi unseen data menggunakan model yang telah anda latih.\n",
        "\n",
        "* nilai full hanya untuk praktikan yang mampu menerapkan 2 baris code untuk splitting dataset"
      ]
    },
    {
      "cell_type": "code",
      "metadata": {
        "id": "6Re0vwqYUPGD"
      },
      "source": [
        "# TULIS CODE ANDA DISINI\n",
        "os.mkdir(\"DATASETS/train\")\n",
        "os.mkdir(\"DATASETS/train/rock\")\n",
        "os.mkdir(\"DATASETS/train/paper\")\n",
        "os.mkdir(\"DATASETS/train/scissors\")\n",
        "os.mkdir(\"DATASETS/test\")\n",
        "os.mkdir(\"DATASETS/test/rock\")\n",
        "os.mkdir(\"DATASETS/test/paper\")\n",
        "os.mkdir(\"DATASETS/test/scissors\")\n",
        "os.mkdir(\"DATASETS/validation\")\n",
        "os.mkdir(\"DATASETS/validation/rock\")\n",
        "os.mkdir(\"DATASETS/validation/paper\")\n",
        "os.mkdir(\"DATASETS/validation/scissors\")"
      ],
      "execution_count": null,
      "outputs": []
    },
    {
      "cell_type": "code",
      "metadata": {
        "id": "p7alJrjZ_3On"
      },
      "source": [
        "# TULIS CODE ANDA DISINI\n",
        "import shutil, os, glob\n",
        "\n",
        "base_dataset = \"DATASETS\"\n",
        "class_dir = ['rock','paper','scissors']\n",
        "for class_item in class_dir:\n",
        "    X = []\n",
        "    Y = []\n",
        "    locate = class_item\n",
        "    cur_dir = base_dataset+\"/\"+class_item\n",
        "    dataset = os.listdir(cur_dir)\n",
        "    train_len_func = int(80/100*len(dataset))\n",
        "    \n",
        "    srcDir = base_dataset + \"/\" + locate\n",
        "    dstDir_train = 'DATASETS/train/' + locate.lower()\n",
        "    dstDir_val = 'DATASETS/validation/' + locate.lower()\n",
        "    for item in dataset:\n",
        "        if len(X) < train_len_func:\n",
        "            X.append(item)\n",
        "            shutil.move(srcDir + '/' + item, dstDir_train + '/' + item);\n",
        "        else:\n",
        "            Y.append(item)\n",
        "            shutil.move(srcDir + '/' + item, dstDir_val + '/' + item);\n",
        "    \n",
        "\n"
      ],
      "execution_count": null,
      "outputs": []
    },
    {
      "cell_type": "code",
      "metadata": {
        "id": "xJVRE4j9AaBU"
      },
      "source": [
        "# TULIS CODE ANDA DISINI\n",
        "import shutil, os, glob\n",
        "\n",
        "base_dataset = \"DATASETS/train\"\n",
        "class_dir = ['rock','paper','scissors']\n",
        "for class_item in class_dir:\n",
        "    X = []\n",
        "    Y = []\n",
        "    locate = class_item\n",
        "    cur_dir = base_dataset+\"/\"+class_item\n",
        "    dataset = os.listdir(cur_dir)\n",
        "    train_len_func = int(80/100*len(dataset))\n",
        "    \n",
        "    srcDir = base_dataset + \"/\" + locate\n",
        "    dstDir_train = 'DATASETS/train/' + locate.lower()\n",
        "    dstDir_val = 'DATASETS/test/' + locate.lower()\n",
        "    for item in dataset:\n",
        "        if len(X) < train_len_func:\n",
        "            X.append(item)\n",
        "            shutil.move(srcDir + '/' + item, dstDir_train + '/' + item);\n",
        "        else:\n",
        "            Y.append(item)\n",
        "            shutil.move(srcDir + '/' + item, dstDir_val + '/' + item);\n",
        "    \n",
        "\n"
      ],
      "execution_count": null,
      "outputs": []
    },
    {
      "cell_type": "code",
      "metadata": {
        "id": "9tUa79frDWRs",
        "colab": {
          "base_uri": "https://localhost:8080/"
        },
        "outputId": "23f32471-d059-405d-c7a3-bf51bb7113f5"
      },
      "source": [
        "%cd /content/drive/My Drive/RESEARCH CENTER/DATASETS"
      ],
      "execution_count": null,
      "outputs": [
        {
          "output_type": "stream",
          "text": [
            "/content/drive/My Drive/RESEARCH CENTER/DATASETS\n"
          ],
          "name": "stdout"
        }
      ]
    },
    {
      "cell_type": "code",
      "metadata": {
        "id": "1-LtpjQRDhIc",
        "colab": {
          "base_uri": "https://localhost:8080/"
        },
        "outputId": "2ee8c6e3-1998-423d-9eca-b4b00f0efbf4"
      },
      "source": [
        "!ls"
      ],
      "execution_count": null,
      "outputs": [
        {
          "output_type": "stream",
          "text": [
            "kaggle.json  paper\t\t       rock\t      scissors\ttrain\n",
            "modul3.h5    README_rpc-cv-images.txt  rps-cv-images  test\tvalidation\n"
          ],
          "name": "stdout"
        }
      ]
    },
    {
      "cell_type": "code",
      "metadata": {
        "id": "EP37Akb_DhK5"
      },
      "source": [
        "import os\n",
        "\n",
        "train_dir = 'train'\n",
        "validation_dir = 'validation'\n",
        "test_dir = 'test'\n",
        "\n",
        "train_rock_dir = os.path.join(train_dir, 'rock')\n",
        "train_paper_dir = os.path.join(train_dir, 'paper')\n",
        "train_scissors_dir = os.path.join(train_dir, 'scissors')\n",
        "\n",
        "validation_rock_dir = os.path.join(validation_dir, 'rock')\n",
        "validation_paper_dir = os.path.join(validation_dir, 'paper')\n",
        "validation_scissors_dir = os.path.join(validation_dir, 'scissors')\n",
        "\n",
        "test_rock_dir = os.path.join(test_dir, 'rock')\n",
        "test_paper_dir = os.path.join(test_dir, 'paper')\n",
        "test_scissors_dir = os.path.join(test_dir, 'scissors')\n",
        "\n",
        "#penamaan variabel data rok paper dll "
      ],
      "execution_count": null,
      "outputs": []
    },
    {
      "cell_type": "code",
      "metadata": {
        "id": "IRnn3V73DhNu",
        "colab": {
          "base_uri": "https://localhost:8080/"
        },
        "outputId": "bed6b8e7-cb70-4e71-fe20-d27afbe9eac0"
      },
      "source": [
        "print('total training rock images:', len(os.listdir(train_rock_dir)))\n",
        "print('total training paper images:', len(os.listdir(train_paper_dir)))\n",
        "print('total training scissors images:', len(os.listdir(train_scissors_dir)))\n",
        "\n",
        "print('\\ntotal validation rock images:', len(os.listdir(validation_rock_dir)))\n",
        "print('total validation paper images:', len(os.listdir(validation_paper_dir)))\n",
        "print('total validation scissors images:', len(os.listdir(validation_scissors_dir)))\n",
        "\n",
        "print('\\ntotal test rock images:', len(os.listdir(test_rock_dir)))\n",
        "print('total test paper images:', len(os.listdir(test_paper_dir)))\n",
        "print('total test scissors images:', len(os.listdir(test_scissors_dir)))"
      ],
      "execution_count": null,
      "outputs": [
        {
          "output_type": "stream",
          "text": [
            "total training rock images: 464\n",
            "total training paper images: 455\n",
            "total training scissors images: 480\n",
            "\n",
            "total validation rock images: 146\n",
            "total validation paper images: 143\n",
            "total validation scissors images: 150\n",
            "\n",
            "total test rock images: 116\n",
            "total test paper images: 114\n",
            "total test scissors images: 120\n"
          ],
          "name": "stdout"
        }
      ]
    },
    {
      "cell_type": "markdown",
      "metadata": {
        "id": "FownsNlA1ws5"
      },
      "source": [
        "Bila anda melakukannya dengan benar, maka ketika anda menjalankan perintah dibawah anda akan menemui output sbb :\n",
        "\n",
        "**Output perintah `!ls`**\n",
        "```\n",
        " bbc_document_classification\t  kaggle.json\n",
        " big_mart_sales_forcasting\t  model.png\n",
        " Bird_Type\t\t\t  monkey_labels.txt\n",
        " BRAIN_TUMOR\t\t\t  Monkey_Species\n",
        " cats_and_dogs_filtered\t\t  PetImages\n",
        " dataset\t\t\t  README_rpc-cv-images.txt\n",
        " Diabetics_Retinopathy\t\t  Rice_Disease\n",
        " DS_CHEAT_SHEET\t\t\t  rockpaperscissors\n",
        " imdb_indonesian_movies_2.csv\t  rps-cv-images\n",
        "'Kaggle Download Dataset.ipynb'\n",
        "```\n",
        "\n",
        "**Output perintah `!ls rockpaperscissors`**\n",
        "```\n",
        " dataset\n",
        "```\n",
        "**Output perintah `!ls rockpaperscissors`**\n",
        "```\n",
        " paper  rock  scissors\n",
        "```\n",
        "\n"
      ]
    },
    {
      "cell_type": "code",
      "metadata": {
        "id": "E9_rvimipTEP"
      },
      "source": [
        "# TULIS CODE ANDA DISINI"
      ],
      "execution_count": null,
      "outputs": []
    },
    {
      "cell_type": "markdown",
      "metadata": {
        "id": "x_bZuRvRsd3I"
      },
      "source": [
        "Splitting dataset berhasil apabila dijalankan perintah `ls rockpaperscissors` maka akan menampilkan output seperti dibawah ini:\n",
        "\n",
        "```\n",
        "# dataset/  test/  train/  val/\n",
        "```\n",
        "\n"
      ]
    },
    {
      "cell_type": "markdown",
      "metadata": {
        "id": "bGJNvpjE06bH"
      },
      "source": [
        "## **Data Preprocessing**\n",
        "\n",
        "Kita anggap dataset yang kita miliki merupakan dataset yang telah bersih dan siap digunakan untuk proses training model. Namun agar data yang kita miliki dapat diproses oleh model maka kita perlu melakukan sedikit pengolahan data. Kita perlu melakukan load dataset yang tersimpan dalam folder-folder kelas menggunakan generator dan melakukan sedikit proses augmentasi sederhana. \n",
        "\n",
        "\n",
        "**NOTE :** Penjelasan augmentasi secara detail akan dibahas pada modul selanjutnya. Disini kita akan mengunakan augmentasi sederhana saja seperti resize, flip dan rotation."
      ]
    },
    {
      "cell_type": "markdown",
      "metadata": {
        "id": "LE3_N5ZA3CkM"
      },
      "source": [
        "### **Soal 3**\n",
        "poin 20\n",
        "\n",
        "---\n",
        "\n",
        "Lakukan proses agumentasi sederhana dan setting dataset menggunakan generator dengan ketentuan **WAJIB** menyertakan proses berikut :\n",
        "\n",
        "* Resize\n",
        "* Rescaling\n",
        "* Color Mode\n",
        "* Shuffle\n",
        "* Class Mode\n",
        "\n",
        "Terapkan semua proses diatas pada data `train, test dan validation`.\n"
      ]
    },
    {
      "cell_type": "code",
      "metadata": {
        "id": "mThUU7Ai6ytp"
      },
      "source": [
        "# Definisikan path untuk data train test dan validation\n",
        "# sesuaikan dengan path anda\n",
        "train_path = \"train\"\n",
        "test_path  = \"test\"\n",
        "val_path   = \"validation\""
      ],
      "execution_count": null,
      "outputs": []
    },
    {
      "cell_type": "code",
      "metadata": {
        "id": "0r61d25Zoh_Z"
      },
      "source": [
        "# TULIS KODE ANDA DISINI\n",
        "from keras.preprocessing.image import ImageDataGenerator\n",
        "\n",
        "train_datagen = ImageDataGenerator(rescale=1./255,\n",
        "                                   shear_range=0.2,\n",
        "                                   zoom_range=0.2,\n",
        "                                   horizontal_flip=True)\n",
        "val_datagen = ImageDataGenerator(rescale=1./255)"
      ],
      "execution_count": null,
      "outputs": []
    },
    {
      "cell_type": "code",
      "metadata": {
        "id": "FYbQ5CbMF578",
        "colab": {
          "base_uri": "https://localhost:8080/"
        },
        "outputId": "572b9da5-607b-43e6-9a2a-bdcde030afa8"
      },
      "source": [
        "training_set = train_datagen.flow_from_directory(  train_path,\n",
        "                                       target_size=(128, 128),\n",
        "                                             color_mode=\"rgb\",\n",
        "                                                batch_size=32,\n",
        "                                     class_mode='categorical',\n",
        "                                               shuffle = True)"
      ],
      "execution_count": null,
      "outputs": [
        {
          "output_type": "stream",
          "text": [
            "Found 1399 images belonging to 3 classes.\n"
          ],
          "name": "stdout"
        }
      ]
    },
    {
      "cell_type": "code",
      "metadata": {
        "id": "zPAlomDrF6BT",
        "colab": {
          "base_uri": "https://localhost:8080/"
        },
        "outputId": "66873947-aa52-4c1b-99d3-ef40437f4a9e"
      },
      "source": [
        "validation_set = val_datagen.flow_from_directory(    val_path,\n",
        "                                       target_size=(128, 128),\n",
        "                                             color_mode=\"rgb\",\n",
        "                                                batch_size=32,\n",
        "                                     class_mode='categorical',\n",
        "                                               shuffle = False)"
      ],
      "execution_count": null,
      "outputs": [
        {
          "output_type": "stream",
          "text": [
            "Found 439 images belonging to 3 classes.\n"
          ],
          "name": "stdout"
        }
      ]
    },
    {
      "cell_type": "code",
      "metadata": {
        "id": "b9w40WEwF6PE",
        "colab": {
          "base_uri": "https://localhost:8080/"
        },
        "outputId": "10fff1c7-fe9b-43aa-cf08-919380d7f6e7"
      },
      "source": [
        "test_set = val_datagen.flow_from_directory(         test_path,\n",
        "                                       target_size=(128, 128),\n",
        "                                             color_mode=\"rgb\",\n",
        "                                                batch_size=32,\n",
        "                                     class_mode='categorical',\n",
        "                                               shuffle = False)"
      ],
      "execution_count": null,
      "outputs": [
        {
          "output_type": "stream",
          "text": [
            "Found 350 images belonging to 3 classes.\n"
          ],
          "name": "stdout"
        }
      ]
    },
    {
      "cell_type": "markdown",
      "metadata": {
        "id": "kqIE1t7R0zrA"
      },
      "source": [
        "## **Definisikan Model CNN**\n",
        "\n",
        "Sangat disarankan menggunakan GPU sebagai akselerator untuk mempercepat proses training. Oleh sebab itu akan sangat lebih baik bila menggunakan google colab dimana anda dapat meminjam GPU dari google secara gratis."
      ]
    },
    {
      "cell_type": "markdown",
      "metadata": {
        "id": "DmMY0uROUFqP"
      },
      "source": [
        "### **Soal 4**\n",
        "poin 60\n",
        "\n",
        "---\n",
        "\n",
        "Definisikan model CNN anda sebaik mungkin, model dan evaluasi yang anda bangun **WAJIB** memenuhi kriteria berikut:\n",
        "\n",
        "* Menerapkan proses Convolution \n",
        "* Menerapkan proses Pooling\n",
        "* Menerapkan Dropout\n",
        "* Menerpakan BatchNormalization\n",
        "* Evaluasi model menggunakan grafik loss dan accuracy\n",
        "* Evaluasi menggunakan classification report\n",
        "* Evaluasi menggunakan confusion matrix\n",
        "\n",
        "Bila anda telah melaksanakan semua item-item wajib diatas maka anda bisa mendapatkan penilaian yang sesuai dengan kriteria penilaian sbb: ***Bila tidak menerapkan salah satu dari item wajib maka penilaian di soal ini dianggap gugur***\n",
        "\n",
        "* Akurasi < 50% Nilai Max 20\n",
        "* Akurasi < 80% Nilai Max 30\n",
        "* Akurasi >= 80% Nilai Max 40\n",
        "\n",
        "Opsional untuk mendapatkan nilai tambah :\n",
        "* Menggunakan Callbacks  **Poin tambahan 5 poin**\n",
        "* Menggunakan Learning Rate  **Poin tambahan 5 poin**\n",
        "* Lakukan prediksi dengan data test, pastikan model anda dapat memprediksi unseen data dengan kelas yang benar ***dengan ketentuan dapat menampilkan gambar dan label prediksi dan probability score dari gambar yang diprediksikan***. **Poin tambahan 15 poin**\n",
        "* **Nilai tambahan 15 poin** apabila lama proses training model tidak lebih dari 15 menit dengan akurasi >90%"
      ]
    },
    {
      "cell_type": "code",
      "metadata": {
        "id": "PWp_YTCzIp5R"
      },
      "source": [
        "# IMPORT SEMUA PAKET YANG ANDA PERLUKAN UNTUK MENDEFINISIKAN MODEL DISINI\n",
        "import tensorflow as tf\n",
        "from tensorflow.keras import backend\n",
        "from tensorflow import keras\n",
        "from tensorflow.keras.models import Sequential\n",
        "from tensorflow.keras.layers import InputLayer, Activation, Dense, Conv2D, MaxPool2D, Dropout, Flatten, BatchNormalization\n",
        "from tensorflow.keras.optimizers import Adam, SGD\n",
        "from tensorflow.keras.callbacks import EarlyStopping\n",
        "import numpy as np\n",
        "import pandas as pd\n",
        "import matplotlib.pyplot as plt"
      ],
      "execution_count": null,
      "outputs": []
    },
    {
      "cell_type": "code",
      "metadata": {
        "id": "Mjl4kwq1XKJE"
      },
      "source": [
        "# DEFINISIKAN MODEL ANDA DISINI\n",
        "model = Sequential()\n",
        "\n",
        "model.add(InputLayer(input_shape=[128,128,3]))\n",
        "\n",
        "model.add(Conv2D(filters=16, kernel_size=3, strides=1, padding='same', activation='relu'))\n",
        "model.add(MaxPool2D(pool_size=2, padding='same'))\n",
        "\n",
        "model.add(Conv2D(filters=32, kernel_size=3, strides=1, padding='same', activation='relu'))\n",
        "model.add(BatchNormalization())\n",
        "model.add(MaxPool2D(pool_size=2, padding='same'))\n",
        "\n",
        "model.add(Conv2D(filters=64, kernel_size=3, strides=1, padding='same', activation='relu'))\n",
        "model.add(MaxPool2D(pool_size=2, padding='same'))\n",
        "\n",
        "model.add(Conv2D(filters=128, kernel_size=3, strides=1, padding='same', activation='relu'))\n",
        "model.add(BatchNormalization())\n",
        "model.add(MaxPool2D(pool_size=2, padding='same'))\n",
        "\n",
        "model.add(Conv2D(filters=256, kernel_size=3, strides=1, padding='same', activation='relu'))\n",
        "model.add(MaxPool2D(pool_size=2, padding='same'))\n",
        "\n",
        "model.add(Conv2D(filters=512, kernel_size=3, strides=1, padding='same', activation='relu'))\n",
        "model.add(BatchNormalization())\n",
        "model.add(MaxPool2D(pool_size=2, padding='same'))\n",
        "\n",
        "model.add(Conv2D(filters=64, kernel_size=3, strides=1, padding='same', activation='relu'))\n",
        "model.add(MaxPool2D(pool_size=2, padding='same'))\n",
        "\n",
        "model.add(Conv2D(filters=32, kernel_size=3, strides=1, padding='same', activation='relu'))\n",
        "model.add(BatchNormalization())\n",
        "model.add(MaxPool2D(pool_size=2, padding='same'))\n",
        "\n",
        "model.add(Conv2D(filters=16, kernel_size=3, strides=1, padding='same', activation='relu'))\n",
        "model.add(MaxPool2D(pool_size=2, padding='same'))\n",
        "\n",
        "model.add(Conv2D(filters=3, kernel_size=3, strides=1, padding='same', activation='relu'))\n",
        "model.add(MaxPool2D(pool_size=2, padding='same'))\n",
        "model.add(Dropout(0.25))\n",
        "\n",
        "model.add(Flatten())\n",
        "\n",
        "# Fully Connected Layer\n",
        "model.add(Dense(128, activation='relu'))\n",
        "model.add(Dense(3, activation='softmax'))"
      ],
      "execution_count": null,
      "outputs": []
    },
    {
      "cell_type": "code",
      "metadata": {
        "id": "dTQC-d65tO0e",
        "colab": {
          "base_uri": "https://localhost:8080/"
        },
        "outputId": "62a55f6f-6218-46e9-c254-631b357fd4f7"
      },
      "source": [
        "# TULIS CODE UNTUK MENAMPILKAN SUMMARY DARI ARSITEKTUR MODEL ANDA DISINI\n",
        "print(model.summary())"
      ],
      "execution_count": null,
      "outputs": [
        {
          "output_type": "stream",
          "text": [
            "Model: \"sequential_2\"\n",
            "_________________________________________________________________\n",
            "Layer (type)                 Output Shape              Param #   \n",
            "=================================================================\n",
            "conv2d_19 (Conv2D)           (None, 128, 128, 16)      448       \n",
            "_________________________________________________________________\n",
            "max_pooling2d_19 (MaxPooling (None, 64, 64, 16)        0         \n",
            "_________________________________________________________________\n",
            "conv2d_20 (Conv2D)           (None, 64, 64, 32)        4640      \n",
            "_________________________________________________________________\n",
            "batch_normalization_8 (Batch (None, 64, 64, 32)        128       \n",
            "_________________________________________________________________\n",
            "max_pooling2d_20 (MaxPooling (None, 32, 32, 32)        0         \n",
            "_________________________________________________________________\n",
            "conv2d_21 (Conv2D)           (None, 32, 32, 64)        18496     \n",
            "_________________________________________________________________\n",
            "max_pooling2d_21 (MaxPooling (None, 16, 16, 64)        0         \n",
            "_________________________________________________________________\n",
            "conv2d_22 (Conv2D)           (None, 16, 16, 128)       73856     \n",
            "_________________________________________________________________\n",
            "batch_normalization_9 (Batch (None, 16, 16, 128)       512       \n",
            "_________________________________________________________________\n",
            "max_pooling2d_22 (MaxPooling (None, 8, 8, 128)         0         \n",
            "_________________________________________________________________\n",
            "conv2d_23 (Conv2D)           (None, 8, 8, 256)         295168    \n",
            "_________________________________________________________________\n",
            "max_pooling2d_23 (MaxPooling (None, 4, 4, 256)         0         \n",
            "_________________________________________________________________\n",
            "conv2d_24 (Conv2D)           (None, 4, 4, 512)         1180160   \n",
            "_________________________________________________________________\n",
            "batch_normalization_10 (Batc (None, 4, 4, 512)         2048      \n",
            "_________________________________________________________________\n",
            "max_pooling2d_24 (MaxPooling (None, 2, 2, 512)         0         \n",
            "_________________________________________________________________\n",
            "conv2d_25 (Conv2D)           (None, 2, 2, 64)          294976    \n",
            "_________________________________________________________________\n",
            "max_pooling2d_25 (MaxPooling (None, 1, 1, 64)          0         \n",
            "_________________________________________________________________\n",
            "conv2d_26 (Conv2D)           (None, 1, 1, 32)          18464     \n",
            "_________________________________________________________________\n",
            "batch_normalization_11 (Batc (None, 1, 1, 32)          128       \n",
            "_________________________________________________________________\n",
            "max_pooling2d_26 (MaxPooling (None, 1, 1, 32)          0         \n",
            "_________________________________________________________________\n",
            "conv2d_27 (Conv2D)           (None, 1, 1, 16)          4624      \n",
            "_________________________________________________________________\n",
            "max_pooling2d_27 (MaxPooling (None, 1, 1, 16)          0         \n",
            "_________________________________________________________________\n",
            "conv2d_28 (Conv2D)           (None, 1, 1, 3)           435       \n",
            "_________________________________________________________________\n",
            "max_pooling2d_28 (MaxPooling (None, 1, 1, 3)           0         \n",
            "_________________________________________________________________\n",
            "dropout_2 (Dropout)          (None, 1, 1, 3)           0         \n",
            "_________________________________________________________________\n",
            "flatten_2 (Flatten)          (None, 3)                 0         \n",
            "_________________________________________________________________\n",
            "dense_4 (Dense)              (None, 128)               512       \n",
            "_________________________________________________________________\n",
            "dense_5 (Dense)              (None, 3)                 387       \n",
            "=================================================================\n",
            "Total params: 1,894,982\n",
            "Trainable params: 1,893,574\n",
            "Non-trainable params: 1,408\n",
            "_________________________________________________________________\n",
            "None\n"
          ],
          "name": "stdout"
        }
      ]
    },
    {
      "cell_type": "code",
      "metadata": {
        "id": "8tPPBmcDtYwi"
      },
      "source": [
        "# TULIS CODE UNTUK DEFINISI LEARNING RATE DISINI \n",
        "from tensorflow.keras.optimizers import Adam\n",
        "\n",
        "model.compile(optimizer=Adam(lr=0.01), \n",
        "              loss='categorical_crossentropy', \n",
        "              metrics=['acc'])"
      ],
      "execution_count": null,
      "outputs": []
    },
    {
      "cell_type": "code",
      "metadata": {
        "id": "2NHvlRG7tpgb",
        "colab": {
          "base_uri": "https://localhost:8080/"
        },
        "outputId": "bb8b3a48-7905-4d16-d228-2918ddedbc8f"
      },
      "source": [
        "# TULIS CODE UNTUK TRAINING DISINI\n",
        "import time\n",
        "\n",
        "start = time.time()\n",
        "H = model.fit_generator(\n",
        "        training_set,\n",
        "        steps_per_epoch=44,\n",
        "        epochs=20,\n",
        "        validation_data=validation_set,\n",
        "        validation_steps=5)"
      ],
      "execution_count": null,
      "outputs": [
        {
          "output_type": "stream",
          "text": [
            "Epoch 1/20\n",
            "44/44 [==============================] - 9s 204ms/step - loss: 0.9142 - acc: 0.5111 - val_loss: 148.9388 - val_acc: 0.1063\n",
            "Epoch 2/20\n",
            "44/44 [==============================] - 9s 199ms/step - loss: 0.7836 - acc: 0.6047 - val_loss: 9.1346 - val_acc: 0.1063\n",
            "Epoch 3/20\n",
            "44/44 [==============================] - 9s 200ms/step - loss: 0.6001 - acc: 0.7477 - val_loss: 5.1755 - val_acc: 0.1063\n",
            "Epoch 4/20\n",
            "44/44 [==============================] - 9s 197ms/step - loss: 0.5261 - acc: 0.7984 - val_loss: 0.8822 - val_acc: 0.6938\n",
            "Epoch 5/20\n",
            "44/44 [==============================] - 9s 200ms/step - loss: 0.5048 - acc: 0.8020 - val_loss: 4.3379 - val_acc: 0.1875\n",
            "Epoch 6/20\n",
            "44/44 [==============================] - 9s 202ms/step - loss: 0.5507 - acc: 0.7770 - val_loss: 2.0253 - val_acc: 0.2188\n",
            "Epoch 7/20\n",
            "44/44 [==============================] - 9s 200ms/step - loss: 0.4727 - acc: 0.8163 - val_loss: 1.0566 - val_acc: 0.7625\n",
            "Epoch 8/20\n",
            "44/44 [==============================] - 9s 198ms/step - loss: 0.5024 - acc: 0.8006 - val_loss: 1.3461 - val_acc: 0.4938\n",
            "Epoch 9/20\n",
            "44/44 [==============================] - 9s 198ms/step - loss: 0.4893 - acc: 0.8120 - val_loss: 1.4380 - val_acc: 0.3875\n",
            "Epoch 10/20\n",
            "44/44 [==============================] - 9s 197ms/step - loss: 0.4931 - acc: 0.8070 - val_loss: 0.5913 - val_acc: 0.9312\n",
            "Epoch 11/20\n",
            "44/44 [==============================] - 9s 199ms/step - loss: 0.5056 - acc: 0.8027 - val_loss: 0.8045 - val_acc: 0.8062\n",
            "Epoch 12/20\n",
            "44/44 [==============================] - 9s 199ms/step - loss: 0.4934 - acc: 0.8113 - val_loss: 0.6007 - val_acc: 0.8625\n",
            "Epoch 13/20\n",
            "44/44 [==============================] - 9s 198ms/step - loss: 0.5104 - acc: 0.7963 - val_loss: 0.6916 - val_acc: 0.9375\n",
            "Epoch 14/20\n",
            "44/44 [==============================] - 9s 200ms/step - loss: 0.4661 - acc: 0.8206 - val_loss: 0.5230 - val_acc: 0.9500\n",
            "Epoch 15/20\n",
            "44/44 [==============================] - 9s 200ms/step - loss: 0.4822 - acc: 0.8184 - val_loss: 0.5585 - val_acc: 0.9250\n",
            "Epoch 16/20\n",
            "44/44 [==============================] - 9s 208ms/step - loss: 0.4461 - acc: 0.8306 - val_loss: 0.6148 - val_acc: 0.9250\n",
            "Epoch 17/20\n",
            "44/44 [==============================] - 9s 207ms/step - loss: 0.4808 - acc: 0.8084 - val_loss: 0.9236 - val_acc: 0.8062\n",
            "Epoch 18/20\n",
            "44/44 [==============================] - 9s 200ms/step - loss: 0.5029 - acc: 0.8049 - val_loss: 0.5588 - val_acc: 0.9375\n",
            "Epoch 19/20\n",
            "44/44 [==============================] - 9s 200ms/step - loss: 0.4835 - acc: 0.8070 - val_loss: 0.4163 - val_acc: 0.9875\n",
            "Epoch 20/20\n",
            "44/44 [==============================] - 9s 199ms/step - loss: 0.4884 - acc: 0.8056 - val_loss: 0.5106 - val_acc: 0.9500\n"
          ],
          "name": "stdout"
        }
      ]
    },
    {
      "cell_type": "code",
      "metadata": {
        "id": "OIHye4dUNq5J",
        "colab": {
          "base_uri": "https://localhost:8080/"
        },
        "outputId": "a6b0ddf3-2f9c-4939-abc4-7fa6e7d0a9a9"
      },
      "source": [
        "# TULIS CODE UNTUK MENCETAK LAMA TRAINING TIME DISINI\n",
        "print(\"waktu = \", time.time() - start, \"detik\")"
      ],
      "execution_count": null,
      "outputs": [
        {
          "output_type": "stream",
          "text": [
            "waktu =  220.23010754585266 detik\n"
          ],
          "name": "stdout"
        }
      ]
    },
    {
      "cell_type": "code",
      "metadata": {
        "id": "S4fsgwP8LIkT"
      },
      "source": [
        "from keras.models import save_model\n",
        "model = save_model(model,'modul3.h5')"
      ],
      "execution_count": null,
      "outputs": []
    },
    {
      "cell_type": "code",
      "metadata": {
        "id": "LkEWVmjYLPwG",
        "colab": {
          "base_uri": "https://localhost:8080/"
        },
        "outputId": "47ea6ff8-de74-402f-f011-ebe3110707ae"
      },
      "source": [
        "!ls"
      ],
      "execution_count": null,
      "outputs": [
        {
          "output_type": "stream",
          "text": [
            "kaggle.json  paper\t\t       rock\t      scissors\ttrain\n",
            "modul3.h5    README_rpc-cv-images.txt  rps-cv-images  test\tvalidation\n"
          ],
          "name": "stdout"
        }
      ]
    },
    {
      "cell_type": "markdown",
      "metadata": {
        "id": "qk59kdzr5AMT"
      },
      "source": [
        "# **Evaluate**"
      ]
    },
    {
      "cell_type": "code",
      "metadata": {
        "id": "GVaP9dbG4wc9"
      },
      "source": [
        "# TULIS CODE UNTUK EVALUASI MODEL DISINI"
      ],
      "execution_count": null,
      "outputs": []
    },
    {
      "cell_type": "code",
      "metadata": {
        "id": "m-_7VhzH40DQ",
        "colab": {
          "base_uri": "https://localhost:8080/",
          "height": 299
        },
        "outputId": "33619262-0011-4e12-c506-c67bf43a03f4"
      },
      "source": [
        "# TULIS CODE UNTUK PLOT EVALUASI MODEL DISINI\n",
        "plt.style.use(\"ggplot\")\n",
        "plt.figure()\n",
        "plt.plot(np.arange(0, 20), H.history[\"loss\"], label=\"train_loss\")\n",
        "plt.plot(np.arange(0, 20), H.history[\"val_loss\"], label=\"val_loss\")\n",
        "plt.title(\"Loss Plot\")\n",
        "plt.xlabel(\"Epoch #\")\n",
        "plt.ylabel(\"Loss\")\n",
        "plt.legend()\n",
        "plt.show()"
      ],
      "execution_count": null,
      "outputs": [
        {
          "output_type": "display_data",
          "data": {
            "image/png": "[encoded data removed]",
            "text/plain": [
              "<Figure size 432x288 with 1 Axes>"
            ]
          },
          "metadata": {
            "tags": []
          }
        }
      ]
    },
    {
      "cell_type": "code",
      "metadata": {
        "id": "BsFda3fSKaAg",
        "colab": {
          "base_uri": "https://localhost:8080/",
          "height": 299
        },
        "outputId": "debf98fd-cda9-49df-ac6c-9bb7f2301e1d"
      },
      "source": [
        "plt.style.use(\"ggplot\")\n",
        "plt.figure()\n",
        "plt.plot(np.arange(0, 20), H.history[\"acc\"], label=\"train_acc\")\n",
        "plt.plot(np.arange(0, 20), H.history[\"val_acc\"], label=\"val_acc\")\n",
        "plt.title(\"Accuracy Plot\")\n",
        "plt.xlabel(\"Epoch #\")\n",
        "plt.ylabel(\"Acc\")\n",
        "plt.legend()\n",
        "plt.show()"
      ],
      "execution_count": null,
      "outputs": [
        {
          "output_type": "display_data",
          "data": {
            "image/png": "[encoded data removed]",
            "text/plain": [
              "<Figure size 432x288 with 1 Axes>"
            ]
          },
          "metadata": {
            "tags": []
          }
        }
      ]
    },
    {
      "cell_type": "code",
      "metadata": {
        "id": "9FZBVsIH46Bb",
        "colab": {
          "base_uri": "https://localhost:8080/",
          "height": 1000
        },
        "outputId": "8fc1821f-c9ec-4d37-e1ed-cd350fba025f"
      },
      "source": [
        "# TULIS CODE UNTUK PREDIKSI DATA TEST DISINI\n",
        "import numpy as np\n",
        "import matplotlib.image as mpimg\n",
        "import matplotlib.pyplot as plt\n",
        "from keras.models import Sequential, load_model\n",
        "from keras.preprocessing.image import ImageDataGenerator, load_img, img_to_array\n",
        "\n",
        "model_path = 'modul3.h5'\n",
        "model_weights_path = 'weight.h5'\n",
        "test_path = 'test'\n",
        "\n",
        "model = load_model(model_path)\n",
        "\n",
        "def predict(file):\n",
        "  x = load_img(file, target_size=(128,128))\n",
        "  x = img_to_array(x)\n",
        "  x = np.expand_dims(x, axis=0)\n",
        "  array = model.predict(x)\n",
        "  result = array[0]\n",
        "  #print(result)\n",
        "  answer = np.argmax(result)\n",
        "  if answer == 1:\n",
        "    print(\"Predicted: rock\")\n",
        "  elif answer == 0:\n",
        "    print(\"Predicted: paper\")\n",
        "  elif answer == 2:\n",
        "    print(\"Predicted: scissors\")\n",
        "\n",
        "  return answer\n",
        "\n",
        "#Walk the directory for every image\n",
        "for i, ret in enumerate(os.walk(test_path)):\n",
        "  for i, filename in enumerate(ret[2]):\n",
        "    if filename.startswith(\".\"):\n",
        "      continue\n",
        "    \n",
        "    print(ret[0] + '/' + filename)\n",
        "    img = mpimg.imread(ret[0] + '/' + filename)\n",
        "    plt.imshow(img)\n",
        "    result = predict(ret[0] + '/' + filename)\n",
        "    print(\" \")"
      ],
      "execution_count": null,
      "outputs": [
        {
          "output_type": "stream",
          "text": [
            "test/rock/eJ5fbY23rZWUULxO.png\n",
            "Predicted: rock\n",
            " \n",
            "test/rock/fiivFS9iUjynQIB5.png\n",
            "Predicted: rock\n",
            " \n",
            "test/rock/fK7m8vZQS1RUHcMr.png\n",
            "Predicted: rock\n",
            " \n",
            "test/rock/gIuYTYdTVKnNAc5m.png\n",
            "Predicted: rock\n",
            " \n",
            "test/rock/fjPydEfNWCvgobYu.png\n",
            "Predicted: rock\n",
            " \n",
            "test/rock/eHSa1nP8bmRToqyG.png\n",
            "Predicted: rock\n",
            " \n",
            "test/rock/gjdBDXv7avQwgTr3.png\n",
            "Predicted: rock\n",
            " \n",
            "test/rock/fGaDsQT8mUTaytaT.png\n",
            "Predicted: rock\n",
            " \n",
            "test/rock/evxvBwQgL8Kvv67C.png\n",
            "Predicted: rock\n",
            " \n",
            "test/rock/dZ6rscIYTbmlwVZE.png\n",
            "Predicted: rock\n",
            " \n",
            "test/rock/eGm3dLnWBxRrjlJX.png\n",
            "Predicted: rock\n",
            " \n",
            "test/rock/fMQzh7RRM5fbtBiC.png\n",
            "Predicted: rock\n",
            " \n",
            "test/rock/gRiBjZUJv5LqQXYZ.png\n",
            "Predicted: rock\n",
            " \n",
            "test/rock/gPFCK0WnHem9uYEW.png\n",
            "Predicted: rock\n",
            " \n",
            "test/rock/fLFzQoErbCBRR6NM.png\n",
            "Predicted: rock\n",
            " \n",
            "test/rock/fsN97zyPFSfYwnsS.png\n",
            "Predicted: rock\n",
            " \n",
            "test/rock/g04l14MAwqQthuWW.png\n",
            "Predicted: rock\n",
            " \n",
            "test/rock/g9lqYZfHWUb3cm08.png\n",
            "Predicted: rock\n",
            " \n",
            "test/rock/foxUXc8WPRDAd6LM.png\n",
            "Predicted: rock\n",
            " \n",
            "test/rock/dnss2tOuxRmL0ZjZ.png\n",
            "Predicted: rock\n",
            " \n",
            "test/rock/fl3m2aXD9qq7un0x.png\n",
            "Predicted: rock\n",
            " \n",
            "test/rock/f2pYnAURozqBDJDy.png\n",
            "Predicted: rock\n",
            " \n",
            "test/rock/esqqaIq6wKOr8EK6.png\n",
            "Predicted: rock\n",
            " \n",
            "test/rock/fQPCA8oYZ8ywDgyv.png\n",
            "Predicted: rock\n",
            " \n",
            "test/rock/eb93o1ZDeBlrdfyc.png\n",
            "Predicted: rock\n",
            " \n",
            "test/rock/gaackCmGss3Lt4tj.png\n",
            "Predicted: rock\n",
            " \n",
            "test/rock/dxfucopsE3UFuH28.png\n",
            "Predicted: rock\n",
            " \n",
            "test/rock/eTo9zgxdhJJAvrfM.png\n",
            "Predicted: rock\n",
            " \n",
            "test/rock/fnIIkyRgH6znwmNp.png\n",
            "Predicted: rock\n",
            " \n",
            "test/rock/gN9QXTe8BSMMHyAn.png\n",
            "Predicted: rock\n",
            " \n",
            "test/rock/gc8jqxVapG2o8ol1.png\n",
            "Predicted: rock\n",
            " \n",
            "test/rock/f1yI657Ka9iHuVGB.png\n",
            "Predicted: rock\n",
            " \n",
            "test/rock/dwcRLIlsRlaRevNn.png\n",
            "Predicted: rock\n",
            " \n",
            "test/rock/fa3PZHjdAUZAob3q.png\n",
            "Predicted: rock\n",
            " \n",
            "test/rock/f48wzqwquNrvjICP.png\n",
            "Predicted: rock\n",
            " \n",
            "test/rock/e6cXS0w2KOKKEYZU.png\n",
            "Predicted: rock\n",
            " \n",
            "test/rock/gaZKijiVXyjhSLYp.png\n",
            "Predicted: rock\n",
            " \n",
            "test/rock/h89sRVkct1nAdPfo.png\n",
            "Predicted: rock\n",
            " \n",
            "test/rock/iIaYawwgu5W18LS9.png\n",
            "Predicted: rock\n",
            " \n",
            "test/rock/jKWUHfF0b4BzWBEk.png\n",
            "Predicted: rock\n",
            " \n",
            "test/rock/lZcZsaDTx2vWJFun.png\n",
            "Predicted: rock\n",
            " \n",
            "test/rock/iDKbsfPFabN9bUKT.png\n",
            "Predicted: rock\n",
            " \n",
            "test/rock/iCLIvwweBESAwx4z.png\n",
            "Predicted: rock\n",
            " \n",
            "test/rock/lO2wvyJGrQBZvX9P.png\n",
            "Predicted: rock\n",
            " \n",
            "test/rock/kW4W7E0A1Wpo45eL.png\n",
            "Predicted: rock\n",
            " \n",
            "test/rock/goDBJj8kMSQbpQZT.png\n",
            "Predicted: rock\n",
            " \n",
            "test/rock/n3ryKsLTPcGhpW6S.png\n",
            "Predicted: rock\n",
            " \n",
            "test/rock/l0rOvSD1UwFg1Xv2.png\n",
            "Predicted: rock\n",
            " \n",
            "test/rock/lh18XOTNn8Tr3ijU.png\n",
            "Predicted: rock\n",
            " \n",
            "test/rock/ikusbrqDgla4SEas.png\n",
            "Predicted: rock\n",
            " \n",
            "test/rock/ktot0Gt2YvkPXl1X.png\n",
            "Predicted: rock\n",
            " \n",
            "test/rock/i1GxDtZ5awTW7Rsf.png\n",
            "Predicted: rock\n",
            " \n",
            "test/rock/mdHOkH88KHqpjkEM.png\n",
            "Predicted: rock\n",
            " \n",
            "test/rock/l0XeoPGwezMDYujz.png\n",
            "Predicted: rock\n",
            " \n",
            "test/rock/iaEybTdfnL0RoU9I.png\n",
            "Predicted: rock\n",
            " \n",
            "test/rock/izGsLJJdOIpr54aV.png\n",
            "Predicted: rock\n",
            " \n",
            "test/rock/iwM1SIgty28sLu2p.png\n",
            "Predicted: rock\n",
            " \n",
            "test/rock/hTzQIKUtmllw7je8.png\n",
            "Predicted: rock\n",
            " \n",
            "test/rock/hOgtdOKps4GHrC05.png\n",
            "Predicted: rock\n",
            " \n",
            "test/rock/lcZcrpCoDl7Y1AUF.png\n",
            "Predicted: rock\n",
            " \n",
            "test/rock/hfvXIbr96w55MAIz.png\n",
            "Predicted: rock\n",
            " \n",
            "test/rock/lpmH56YGWEHsmhBi.png\n",
            "Predicted: rock\n",
            " \n",
            "test/rock/m0xWKKlJMcCcQagG.png\n",
            "Predicted: rock\n",
            " \n",
            "test/rock/hfNIdhXfFcNcv37n.png\n",
            "Predicted: rock\n",
            " \n",
            "test/rock/mwbC6miMP5CXTp3a.png\n",
            "Predicted: rock\n",
            " \n",
            "test/rock/kS7mPmAkxkSxs1WR.png\n",
            "Predicted: rock\n",
            " \n",
            "test/rock/lOCJEdb3BZAfi6Fg.png\n",
            "Predicted: rock\n",
            " \n",
            "test/rock/l6tos9roQ0hnCmfj.png\n",
            "Predicted: rock\n",
            " \n",
            "test/rock/i5FY2iOcMjYyop5u.png\n",
            "Predicted: rock\n",
            " \n",
            "test/rock/glL1mPYeHM552bV4.png\n",
            "Predicted: rock\n",
            " \n",
            "test/rock/jqMSEFiMhpIWzJfe.png\n",
            "Predicted: rock\n",
            " \n",
            "test/rock/iKI9Mw3KvEOuuj9o.png\n",
            "Predicted: rock\n",
            " \n",
            "test/rock/hqD5rX5jXifrtMJO.png\n",
            "Predicted: rock\n",
            " \n",
            "test/rock/iTEpNyc8wQiAbm0I.png\n",
            "Predicted: rock\n",
            " \n",
            "test/rock/hAcc7l7XQ9EtxxfR.png\n",
            "Predicted: rock\n",
            " \n",
            "test/rock/jJVH6kP3VRPHbWvs.png\n",
            "Predicted: rock\n",
            " \n",
            "test/rock/jpuIILjefqjHtUtk.png\n",
            "Predicted: rock\n",
            " \n",
            "test/rock/kfz2fRvWcTqPzQxn.png\n",
            "Predicted: rock\n",
            " \n",
            "test/rock/iEYJn6rg6FCcLqQv.png\n",
            "Predicted: rock\n",
            " \n",
            "test/rock/lJTADoCRRndhoR4k.png\n",
            "Predicted: rock\n",
            " \n",
            "test/rock/hyWWmz1OwgoE5JlU.png\n",
            "Predicted: rock\n",
            " \n",
            "test/rock/iQ8Ef3yZ12whKccA.png\n",
            "Predicted: rock\n",
            " \n",
            "test/rock/muKpkJF3C3j0TmAN.png\n",
            "Predicted: rock\n",
            " \n",
            "test/rock/lFRtpAScOeikVDZB.png\n",
            "Predicted: rock\n",
            " \n",
            "test/rock/iVsm6EbRk1J1cEGN.png\n",
            "Predicted: rock\n",
            " \n",
            "test/rock/j31qLVBZfstRnWsA.png\n",
            "Predicted: rock\n",
            " \n",
            "test/rock/mN2Tm82UB8XH1eNs.png\n",
            "Predicted: rock\n",
            " \n",
            "test/rock/gtVEm7JEdr0wE1ip.png\n",
            "Predicted: rock\n",
            " \n",
            "test/rock/iILNKQp2qExtn6JV.png\n",
            "Predicted: rock\n",
            " \n",
            "test/rock/iCR447ESdUXjdOFz.png\n",
            "Predicted: rock\n",
            " \n",
            "test/rock/hNKauGm372Z48JWy.png\n",
            "Predicted: rock\n",
            " \n",
            "test/rock/lN7rUXL8DBzW1KoR.png\n",
            "Predicted: rock\n",
            " \n",
            "test/rock/mu2i6dWPZNLGnnPy.png\n",
            "Predicted: rock\n",
            " \n",
            "test/rock/lb0hZJ95AjtXzoHf.png\n",
            "Predicted: rock\n",
            " \n",
            "test/rock/m7OF0PiEJCUJyf6K.png\n",
            "Predicted: rock\n",
            " \n",
            "test/rock/n61z73RnZB19Bpq8.png\n",
            "Predicted: rock\n",
            " \n",
            "test/rock/kdSoBBdU2T0eoWR2.png\n",
            "Predicted: rock\n",
            " \n",
            "test/rock/hi4vWQhDFKyTs4iJ.png\n",
            "Predicted: rock\n",
            " \n",
            "test/rock/gutk3kRhu9AfjYWQ.png\n",
            "Predicted: rock\n",
            " \n",
            "test/rock/how0vUOltuU1m495.png\n",
            "Predicted: rock\n",
            " \n",
            "test/rock/ktvHAgLHY7YAY1Af.png\n",
            "Predicted: rock\n",
            " \n",
            "test/rock/mJ0RjteYaLfYLE9P.png\n",
            "Predicted: rock\n",
            " \n",
            "test/rock/lw3m9jLBwagsVLJs.png\n",
            "Predicted: rock\n",
            " \n",
            "test/rock/hMqKoUYAvB91YRuO.png\n",
            "Predicted: rock\n",
            " \n",
            "test/rock/nGW6IQjCFT5tCw6j.png\n",
            "Predicted: rock\n",
            " \n",
            "test/rock/kVwUUOjOc6VtZVMt.png\n",
            "Predicted: rock\n",
            " \n",
            "test/rock/lXb5SpRU737FgSN8.png\n",
            "Predicted: rock\n",
            " \n",
            "test/rock/k24NaH1jhXog9y7y.png\n",
            "Predicted: rock\n",
            " \n",
            "test/rock/k6r5z3dMsqo2H6hk.png\n",
            "Predicted: rock\n",
            " \n",
            "test/rock/koWcxNMbMRN8TxnP.png\n",
            "Predicted: rock\n",
            " \n",
            "test/rock/kcZfTQqKr8VaSjhk.png\n",
            "Predicted: rock\n",
            " \n",
            "test/rock/iYSPVRaZyIwKTrot.png\n",
            "Predicted: rock\n",
            " \n",
            "test/rock/iupz1I8ISgp6PDj7.png\n",
            "Predicted: rock\n",
            " \n",
            "test/rock/i85n2S7UREOq5svM.png\n",
            "Predicted: rock\n",
            " \n",
            "test/rock/k3AidZ3WX8t14gcJ.png\n",
            "Predicted: rock\n",
            " \n",
            "test/rock/lfR51TrQjuKJXkT6.png\n",
            "Predicted: rock\n",
            " \n",
            "test/paper/kVKp9kJji4urjoMs.png\n",
            "Predicted: rock\n",
            " \n",
            "test/paper/hHY3BbYoVFjLEsbd.png\n",
            "Predicted: rock\n",
            " \n",
            "test/paper/mWtDBJ2pprz96x22.png\n",
            "Predicted: rock\n",
            " \n",
            "test/paper/fSWSXO9fumLluiAF.png\n",
            "Predicted: rock\n",
            " \n",
            "test/paper/f423uSEl5slK7nbj.png\n",
            "Predicted: rock\n",
            " \n",
            "test/paper/eBjRjXUIy7fpUaRy.png\n",
            "Predicted: rock\n",
            " \n",
            "test/paper/hH7jcOkAiHqNDWcy.png\n",
            "Predicted: rock\n",
            " \n",
            "test/paper/mK7Kqflg12vHFBEK.png\n",
            "Predicted: rock\n",
            " \n",
            "test/paper/eaOtD5yLQHTuFTz3.png\n",
            "Predicted: rock\n",
            " \n",
            "test/paper/jaxChUvakWAN9eTs.png\n",
            "Predicted: rock\n",
            " \n",
            "test/paper/lb8kepfzcnutbQI1.png\n",
            "Predicted: rock\n",
            " \n",
            "test/paper/fwnVVskCSNkB9LUL.png\n",
            "Predicted: rock\n",
            " \n",
            "test/paper/fiX6rjBt5qHGMsjc.png\n",
            "Predicted: rock\n",
            " \n",
            "test/paper/ejC8QIku5jrtci48.png\n",
            "Predicted: rock\n",
            " \n",
            "test/paper/hUDN2qXDxjoGBWqu.png\n",
            "Predicted: rock\n",
            " \n",
            "test/paper/eBU0DmyWZu3WLjSO.png\n",
            "Predicted: rock\n",
            " \n",
            "test/paper/cw7oAjQLSjDYZPXH.png\n",
            "Predicted: rock\n",
            " \n",
            "test/paper/g028Qv0lVlEbKi1q.png\n",
            "Predicted: rock\n",
            " \n",
            "test/paper/eW9ezZkV7Jxu1BEk.png\n",
            "Predicted: rock\n",
            " \n",
            "test/paper/nGxiCAryWhadfu7W.png\n",
            "Predicted: rock\n",
            " \n",
            "test/paper/khFWD3MPEKPitVyA.png\n",
            "Predicted: rock\n",
            " \n",
            "test/paper/m4BUXxtLrhnsSUJ2.png\n",
            "Predicted: rock\n",
            " \n",
            "test/paper/mUqkjFi6NBsHR7tf.png\n",
            "Predicted: rock\n",
            " \n",
            "test/paper/keyl4nDZLxLORnr3.png\n",
            "Predicted: rock\n",
            " \n",
            "test/paper/et9oIiGQmAgwy7GK.png\n",
            "Predicted: rock\n",
            " \n",
            "test/paper/em91htnBohvtnG2e.png\n",
            "Predicted: rock\n",
            " \n",
            "test/paper/lZkRVz5sifz7CD66.png\n",
            "Predicted: rock\n",
            " \n",
            "test/paper/dZxpgHYRuQNv7T7A.png\n",
            "Predicted: rock\n",
            " \n",
            "test/paper/cfCjmEcXysh0H52D.png\n",
            "Predicted: rock\n",
            " \n",
            "test/paper/l7pEq6tQKyUNL3GN.png\n",
            "Predicted: rock\n",
            " \n",
            "test/paper/dPSQ4TKPBJyjv6cH.png\n",
            "Predicted: rock\n",
            " \n",
            "test/paper/eCpHvcUt4r7A9xJE.png\n",
            "Predicted: rock\n",
            " \n",
            "test/paper/jl6AlteXSalbS3rG.png\n",
            "Predicted: rock\n",
            " \n",
            "test/paper/e50cckZL8BKmqzjd.png\n",
            "Predicted: rock\n",
            " \n",
            "test/paper/n9SDT7R9BSLRNCe1.png\n",
            "Predicted: rock\n",
            " \n",
            "test/paper/nXOxF15xZFtfflkL.png\n",
            "Predicted: rock\n",
            " \n",
            "test/paper/jYSFgcG68qqavVn6.png\n",
            "Predicted: rock\n",
            " \n",
            "test/paper/neo7ALjpzKdzVCj1.png\n",
            "Predicted: rock\n",
            " \n",
            "test/paper/gFqfkMtX39sTkrSB.png\n",
            "Predicted: rock\n",
            " \n",
            "test/paper/lGIPlKIVgwrDC17U.png\n",
            "Predicted: rock\n",
            " \n",
            "test/paper/nSfRj8Sp6S0GsMVm.png\n",
            "Predicted: rock\n",
            " \n",
            "test/paper/eLBTZkvB4E951ml0.png\n",
            "Predicted: rock\n",
            " \n",
            "test/paper/iGiF1suI8wXP6A2r.png\n",
            "Predicted: rock\n",
            " \n",
            "test/paper/f1aYiLdB5VC3L8Kk.png\n",
            "Predicted: rock\n",
            " \n",
            "test/paper/lxWEYgTaWJSoYSiD.png\n",
            "Predicted: rock\n",
            " \n",
            "test/paper/lqo55attrFxuKqlu.png\n",
            "Predicted: rock\n",
            " \n",
            "test/paper/n10pI9JDPyeM0P73.png\n",
            "Predicted: rock\n",
            " \n",
            "test/paper/d5FmD95HmhodiITj.png\n",
            "Predicted: rock\n",
            " \n",
            "test/paper/fnbn7osMCGWmqHKZ.png\n",
            "Predicted: rock\n",
            " \n",
            "test/paper/eLNpUj2AZ1h4Mrxu.png\n",
            "Predicted: rock\n",
            " \n",
            "test/paper/lj8o8xy1TAOMQDaH.png\n",
            "Predicted: rock\n",
            " \n",
            "test/paper/dZh2VMRu9nRGHhYL.png\n",
            "Predicted: rock\n",
            " \n",
            "test/paper/cf9L4KKsfsFpRrYA.png\n",
            "Predicted: rock\n",
            " \n",
            "test/paper/dF7Gvm0vgCJZofAW.png\n",
            "Predicted: rock\n",
            " \n",
            "test/paper/ehzdlf5B1HtVgpRs.png\n",
            "Predicted: rock\n",
            " \n",
            "test/paper/gO7yxcP6H1vZ7lOe.png\n",
            "Predicted: rock\n",
            " \n",
            "test/paper/n8IzyztMwnfa5rjf.png\n",
            "Predicted: rock\n",
            " \n",
            "test/paper/ldG6HLXeY0KilKyr.png\n",
            "Predicted: rock\n",
            " \n",
            "test/paper/i47BmmqwUa4y0jIP.png\n",
            "Predicted: rock\n",
            " \n",
            "test/paper/mV9vc1ITH1PrrbF8.png\n",
            "Predicted: rock\n",
            " \n",
            "test/paper/jCTsslbOLn04znvK.png\n",
            "Predicted: rock\n",
            " \n",
            "test/paper/jqQlxUsZOssnmdWL.png\n",
            "Predicted: rock\n",
            " \n",
            "test/paper/dmT5g2m3meABNfCJ.png\n",
            "Predicted: rock\n",
            " \n",
            "test/paper/dftjUImANb0Q9pMA.png\n",
            "Predicted: rock\n",
            " \n",
            "test/paper/e6blzPfvGcrcHaKl.png\n",
            "Predicted: rock\n",
            " \n",
            "test/paper/n1H2YStjFsCwmlYz.png\n",
            "Predicted: rock\n",
            " \n",
            "test/paper/fCX7MPg0xO4QP2Mk.png\n",
            "Predicted: rock\n",
            " \n",
            "test/paper/j8dvLhkeL92SpOGj.png\n",
            "Predicted: rock\n",
            " \n",
            "test/paper/hWVwQVI74lc5zgyK.png\n",
            "Predicted: rock\n",
            " \n",
            "test/paper/kdPdOkLZZW1UnOPw.png\n",
            "Predicted: rock\n",
            " \n",
            "test/paper/fMkDqtJgZAKa7dl5.png\n",
            "Predicted: rock\n",
            " \n",
            "test/paper/knWd03lNhoAUPdKX.png\n",
            "Predicted: rock\n",
            " \n",
            "test/paper/ldGrLw1rlUq1nHuw.png\n",
            "Predicted: rock\n",
            " \n",
            "test/paper/h4yYJuwG5dUXEY1B.png\n",
            "Predicted: rock\n",
            " \n",
            "test/paper/jXhwHToky4rsswCO.png\n",
            "Predicted: rock\n",
            " \n",
            "test/paper/gpipGA62xfMjfr8O.png\n",
            "Predicted: rock\n",
            " \n",
            "test/paper/eiiwN1DsKoIheMgz.png\n",
            "Predicted: rock\n",
            " \n",
            "test/paper/dUDR2ViadkqS6EHf.png\n",
            "Predicted: rock\n",
            " \n",
            "test/paper/hCPYo6pBGExadl5o.png\n",
            "Predicted: rock\n",
            " \n",
            "test/paper/dIg7Ds4xEzk0pyWZ.png\n",
            "Predicted: rock\n",
            " \n",
            "test/paper/mZW0RUegJl9SM8ck.png\n",
            "Predicted: rock\n",
            " \n",
            "test/paper/ePEd8TOzTgrGz5M2.png\n",
            "Predicted: rock\n",
            " \n",
            "test/paper/nOTm1e00MAJxvpwp.png\n",
            "Predicted: rock\n",
            " \n",
            "test/paper/djVVgBL6PqTdtr6l.png\n",
            "Predicted: rock\n",
            " \n",
            "test/paper/eCZWzeGkpX6rdizo.png\n",
            "Predicted: rock\n",
            " \n",
            "test/paper/n5NXfZTRonR4iOr0.png\n",
            "Predicted: rock\n",
            " \n",
            "test/paper/hxUxn67g42jOHGHi.png\n",
            "Predicted: rock\n",
            " \n",
            "test/paper/dyHfn1GBYIj195b5.png\n",
            "Predicted: rock\n",
            " \n",
            "test/paper/fYuJzeeHPzGwlGh0.png\n",
            "Predicted: rock\n",
            " \n",
            "test/paper/jZe5ePOjxcQEJitP.png\n",
            "Predicted: rock\n",
            " \n",
            "test/paper/e96cq72UJTICTkE0.png\n",
            "Predicted: rock\n",
            " \n",
            "test/paper/lhr6oNI2jMsi0Z6A.png\n",
            "Predicted: rock\n",
            " \n",
            "test/paper/ib30bLCbBl0mKWko.png\n",
            "Predicted: rock\n",
            " \n",
            "test/paper/cuDzhxpWujBPgJmX.png\n",
            "Predicted: rock\n",
            " \n",
            "test/paper/eASnEW16rlMUPMf3.png\n",
            "Predicted: rock\n",
            " \n",
            "test/paper/eQaNnPaHwKsOJaYq.png\n",
            "Predicted: rock\n",
            " \n",
            "test/paper/nPEUpKKphLYH3Bjy.png\n",
            "Predicted: rock\n",
            " \n",
            "test/paper/mkUctpckc3vjOwKa.png\n",
            "Predicted: rock\n",
            " \n",
            "test/paper/kz9TBAHLFXGnHCiF.png\n",
            "Predicted: rock\n",
            " \n",
            "test/paper/jAh36hlZLpECSBHp.png\n",
            "Predicted: rock\n",
            " \n",
            "test/paper/gVd3f9CZNll3QS8l.png\n",
            "Predicted: rock\n",
            " \n",
            "test/paper/fPwDPzGZ5JeY0rb9.png\n",
            "Predicted: rock\n",
            " \n",
            "test/paper/fjITlTb11LELvo3e.png\n",
            "Predicted: rock\n",
            " \n",
            "test/paper/hfYfNNtqkFzF9BE4.png\n",
            "Predicted: rock\n",
            " \n",
            "test/paper/k9d5xaurp8JC9DXp.png\n",
            "Predicted: rock\n",
            " \n",
            "test/paper/hu3OxByp0O4KCJft.png\n",
            "Predicted: rock\n",
            " \n",
            "test/paper/nb6CUTNhXBAmjFp9.png\n",
            "Predicted: rock\n",
            " \n",
            "test/paper/kmBByXdkwf5Vro8P.png\n",
            "Predicted: rock\n",
            " \n",
            "test/paper/mugG8B1m5Ra2aRgZ.png\n",
            "Predicted: rock\n",
            " \n",
            "test/paper/k5n1w4gdm1G27rDk.png\n",
            "Predicted: rock\n",
            " \n",
            "test/paper/crYtjQcVKQjCAWYq.png\n",
            "Predicted: rock\n",
            " \n",
            "test/paper/coKLsdqkvkYUv247.png\n",
            "Predicted: rock\n",
            " \n",
            "test/paper/gR2aEiEX8CzCtyBN.png\n",
            "Predicted: rock\n",
            " \n",
            "test/paper/dDtRH0QF7IPSsasH.png\n",
            "Predicted: rock\n",
            " \n",
            "test/scissors/e7wuzMq70FDcvaFr.png\n",
            "Predicted: rock\n",
            " \n",
            "test/scissors/e8hlT6glM2V2RYgN.png\n",
            "Predicted: scissors\n",
            " \n",
            "test/scissors/e8p8cRK4gABNoiaZ.png\n",
            "Predicted: rock\n",
            " \n",
            "test/scissors/eCrwTPFv8gvWXubN.png\n",
            "Predicted: rock\n",
            " \n",
            "test/scissors/fNhHWQTLa9YBoIo2.png\n",
            "Predicted: rock\n",
            " \n",
            "test/scissors/eJ9GdFE4kzE0t5zh.png\n",
            "Predicted: scissors\n",
            " \n",
            "test/scissors/fRMSey1LBvG1TRWj.png\n",
            "Predicted: scissors\n",
            " \n",
            "test/scissors/ePMywMOdTHYyxe1o.png\n",
            "Predicted: scissors\n",
            " \n",
            "test/scissors/fRkWkCO0r8ZJ6ury.png\n",
            "Predicted: scissors\n",
            " \n",
            "test/scissors/eTkUxksFCvfsbVLs.png\n",
            "Predicted: rock\n",
            " \n",
            "test/scissors/dpmWj9s5ily8GuyY.png\n",
            "Predicted: scissors\n",
            " \n",
            "test/scissors/gWsh2wyYZXw7an5G.png\n",
            "Predicted: scissors\n",
            " \n",
            "test/scissors/fTwiqatiNNgEeTBi.png\n",
            "Predicted: scissors\n",
            " \n",
            "test/scissors/eU4VT33MEquo64QQ.png\n",
            "Predicted: scissors\n",
            " \n",
            "test/scissors/dxFGJyDhnNu3iOmm.png\n",
            "Predicted: rock\n",
            " \n",
            "test/scissors/dWIQvO3tVSLw4etp.png\n",
            "Predicted: scissors\n",
            " \n",
            "test/scissors/gbGB4caRQYsV8ZcR.png\n",
            "Predicted: rock\n",
            " \n",
            "test/scissors/fXrAew7llUJLK8CU.png\n",
            "Predicted: scissors\n",
            " \n",
            "test/scissors/ejWJ6Ber6qqXnuag.png\n",
            "Predicted: rock\n",
            " \n",
            "test/scissors/glvH49YVWOtxdOyh.png\n",
            "Predicted: scissors\n",
            " \n",
            "test/scissors/dkrdiLQ61q78gidZ.png\n",
            "Predicted: scissors\n",
            " \n",
            "test/scissors/fYsFOMTEQ0VIy1Ma.png\n",
            "Predicted: rock\n",
            " \n",
            "test/scissors/kC1AoCFrvaMKlTDk.png\n",
            "Predicted: scissors\n",
            " \n",
            "test/scissors/hzvSpM4olIqXfeVt.png\n",
            "Predicted: scissors\n",
            " \n",
            "test/scissors/dyXtUOfqM9sxdcXr.png\n",
            "Predicted: rock\n",
            " \n",
            "test/scissors/ejrBEOeknHrk4kCi.png\n",
            "Predicted: rock\n",
            " \n",
            "test/scissors/gs2BzCeH7aDo8Lhs.png\n",
            "Predicted: scissors\n",
            " \n",
            "test/scissors/dnXr5NzZKqzg8VgI.png\n",
            "Predicted: scissors\n",
            " \n",
            "test/scissors/kCoX1GxQ9o2ZhRy9.png\n",
            "Predicted: rock\n",
            " \n",
            "test/scissors/i0pYFjwidPeBL3je.png\n",
            "Predicted: scissors\n",
            " \n",
            "test/scissors/fdVS2hjaLlbu5u8J.png\n",
            "Predicted: scissors\n",
            " \n",
            "test/scissors/e1qGNUkh9ecj7QG3.png\n",
            "Predicted: scissors\n",
            " \n",
            "test/scissors/eqJEQe8W9FP4TOck.png\n",
            "Predicted: scissors\n",
            " \n",
            "test/scissors/dowAehk6HVomDGpw.png\n",
            "Predicted: scissors\n",
            " \n",
            "test/scissors/kH6F4XFQOxMTRZj3.png\n",
            "Predicted: rock\n",
            " \n",
            "test/scissors/gzAhbz3S2W0VukHE.png\n",
            "Predicted: scissors\n",
            " \n",
            "test/scissors/lPWbZ5JDB0gjIv2J.png\n",
            "Predicted: scissors\n",
            " \n",
            "test/scissors/i5CZnAPMNTZtM13A.png\n",
            "Predicted: scissors\n",
            " \n",
            "test/scissors/fnV8zv0atHjQzfhV.png\n",
            "Predicted: scissors\n",
            " \n",
            "test/scissors/e5dFezMV6TxIvNXA.png\n",
            "Predicted: rock\n",
            " \n",
            "test/scissors/esPjow7BN3RXc4gk.png\n",
            "Predicted: scissors\n",
            " \n",
            "test/scissors/dpBDoATNj0ZtqSz3.png\n",
            "Predicted: scissors\n",
            " \n",
            "test/scissors/lSAWzGgHunaNt7jj.png\n",
            "Predicted: rock\n",
            " \n",
            "test/scissors/gzRmdTIFRzV34Vjl.png\n",
            "Predicted: scissors\n",
            " \n",
            "test/scissors/iM1hcJsC387vy9YA.png\n",
            "Predicted: scissors\n",
            " \n",
            "test/scissors/kM3ks8HWMjhbBPWU.png\n",
            "Predicted: scissors\n",
            " \n",
            "test/scissors/e6O1EpJykTCPNfvI.png\n",
            "Predicted: scissors\n",
            " \n",
            "test/scissors/fu07mFhmsJAtiPwr.png\n",
            "Predicted: rock\n",
            " \n",
            "test/scissors/evBSpeXRlbUu82CV.png\n",
            "Predicted: scissors\n",
            " \n",
            "test/scissors/msOEQAWveiL7r5rp.png\n",
            "Predicted: scissors\n",
            " \n",
            "test/scissors/lhD4U5er2UL6nfAH.png\n",
            "Predicted: rock\n",
            " \n",
            "test/scissors/kP93zKVUzAJpIWpV.png\n",
            "Predicted: rock\n",
            " \n",
            "test/scissors/jVsCBh8HQczKdHci.png\n",
            "Predicted: scissors\n",
            " \n",
            "test/scissors/h5MbTDhsN1x308Je.png\n",
            "Predicted: scissors\n",
            " \n",
            "test/scissors/iXpTSeMxuDfhayJw.png\n",
            "Predicted: rock\n",
            " \n",
            "test/scissors/mtLouezQUnTbfEgj.png\n",
            "Predicted: scissors\n",
            " \n",
            "test/scissors/fFnXXczN4qqWFcsE.png\n",
            "Predicted: scissors\n",
            " \n",
            "test/scissors/g1gIEqOv6YDveleA.png\n",
            "Predicted: rock\n",
            " \n",
            "test/scissors/loXdJgVrbcZGFjas.png\n",
            "Predicted: rock\n",
            " \n",
            "test/scissors/kUUKyIbaWlM3GgEs.png\n",
            "Predicted: scissors\n",
            " \n",
            "test/scissors/jWUoY57nkFKUUdD5.png\n",
            "Predicted: scissors\n",
            " \n",
            "test/scissors/h8GCEjkSpQjdUuZH.png\n",
            "Predicted: scissors\n",
            " \n",
            "test/scissors/fIryCS56DD4INQKz.png\n",
            "Predicted: rock\n",
            " \n",
            "test/scissors/iYOrHPwEvEe7rXSL.png\n",
            "Predicted: scissors\n",
            " \n",
            "test/scissors/g2CVyHgIl83M2F0m.png\n",
            "Predicted: scissors\n",
            " \n",
            "test/scissors/mxNMUcdf5UjHfyZQ.png\n",
            "Predicted: rock\n",
            " \n",
            "test/scissors/m5ykDPqbTkPOEgWW.png\n",
            "Predicted: scissors\n",
            " \n",
            "test/scissors/jX4XP2bjq762S0Wj.png\n",
            "Predicted: scissors\n",
            " \n",
            "test/scissors/kY0Q7raIkxwCCOk2.png\n",
            "Predicted: scissors\n",
            " \n",
            "test/scissors/hAb9a8XAGVZnLM6m.png\n",
            "Predicted: scissors\n",
            " \n",
            "test/scissors/mxyADQuZCMwE1Nv5.png\n",
            "Predicted: scissors\n",
            " \n",
            "test/scissors/ik80sIT0Ao6APY3M.png\n",
            "Predicted: rock\n",
            " \n",
            "test/scissors/g6KeAGhgzo4NSYWc.png\n",
            "Predicted: rock\n",
            " \n",
            "test/scissors/m7ELYBy0O4wx0YqJ.png\n",
            "Predicted: rock\n",
            " \n",
            "test/scissors/khmBjKwffAIb566D.png\n",
            "Predicted: scissors\n",
            " \n",
            "test/scissors/jbj5K46TOmR5hkWu.png\n",
            "Predicted: rock\n",
            " \n",
            "test/scissors/inP9wrbC4x26yBW9.png\n",
            "Predicted: scissors\n",
            " \n",
            "test/scissors/hJuytZrZ7fR1CWyi.png\n",
            "Predicted: scissors\n",
            " \n",
            "test/scissors/n3OFHC3Uz9y9JsaM.png\n",
            "Predicted: rock\n",
            " \n",
            "test/scissors/gK1XEsUjwJ5gDOSz.png\n",
            "Predicted: rock\n",
            " \n",
            "test/scissors/mAjn51U2iJwlh99P.png\n",
            "Predicted: scissors\n",
            " \n",
            "test/scissors/jrogjyPvn83c1ZRy.png\n",
            "Predicted: scissors\n",
            " \n",
            "test/scissors/kiUc9msxBC2UZJ5g.png\n",
            "Predicted: rock\n",
            " \n",
            "test/scissors/ismjaxPJzOizyqOx.png\n",
            "Predicted: rock\n",
            " \n",
            "test/scissors/hP1nFePk6ao9xKDF.png\n",
            "Predicted: scissors\n",
            " \n",
            "test/scissors/gLvAPtEJW1Ff5KLX.png\n",
            "Predicted: scissors\n",
            " \n",
            "test/scissors/n8R1AoBrBUeqH7wZ.png\n",
            "Predicted: scissors\n",
            " \n",
            "test/scissors/mBHQsHWDcRvtLIKC.png\n",
            "Predicted: rock\n",
            " \n",
            "test/scissors/kklrxqhAClWO5J80.png\n",
            "Predicted: scissors\n",
            " \n",
            "test/scissors/jui5QU0jWOCKf8hW.png\n",
            "Predicted: scissors\n",
            " \n",
            "test/scissors/gQyIUVHeIS3WYuzv.png\n",
            "Predicted: rock\n",
            " \n",
            "test/scissors/hly8CYYf6AiQucXm.png\n",
            "Predicted: scissors\n",
            " \n",
            "test/scissors/nHMXDFvdVQ8Vb0F7.png\n",
            "Predicted: scissors\n",
            " \n",
            "test/scissors/itSX8Pe5BwSSbcEb.png\n",
            "Predicted: scissors\n",
            " \n",
            "test/scissors/mIFCv2K3nBdTMjku.png\n",
            "Predicted: scissors\n",
            " \n",
            "test/scissors/ksWe2SZsjOoLAzf5.png\n",
            "Predicted: rock\n",
            " \n",
            "test/scissors/jwdItCvoNRkssn6D.png\n",
            "Predicted: scissors\n",
            " \n",
            "test/scissors/hmu0D0hhHVAD8wXd.png\n",
            "Predicted: rock\n",
            " \n",
            "test/scissors/itXNIVO7ghl2qja8.png\n",
            "Predicted: rock\n",
            " \n",
            "test/scissors/mRlkMzgNq3PxHHe4.png\n",
            "Predicted: scissors\n",
            " \n",
            "test/scissors/nIwv11WKj5Ch85mv.png\n",
            "Predicted: rock\n",
            " \n",
            "test/scissors/kyzq1dNdXgG9OZDb.png\n",
            "Predicted: rock\n",
            " \n",
            "test/scissors/jy6fSFQ1ynecl3P7.png\n",
            "Predicted: scissors\n",
            " \n",
            "test/scissors/j1EfA5DclfCJdzLb.png\n",
            "Predicted: rock\n",
            " \n",
            "test/scissors/hyQDSSjNFHX7Wirc.png\n",
            "Predicted: scissors\n",
            " \n",
            "test/scissors/mViP022ujNQr6UX1.png\n",
            "Predicted: scissors\n",
            " \n",
            "test/scissors/nOIg15ZJ3XuUVkT3.png\n",
            "Predicted: scissors\n",
            " \n",
            "test/scissors/kzjICtBZVnwJrYeI.png\n",
            "Predicted: scissors\n",
            " \n",
            "test/scissors/k7KXWWd1IymDhMIm.png\n",
            "Predicted: rock\n",
            " \n",
            "test/scissors/hzfrafUqDDoL0esu.png\n",
            "Predicted: rock\n",
            " \n",
            "test/scissors/j3c7JHbJwmnOq6cu.png\n",
            "Predicted: scissors\n",
            " \n",
            "test/scissors/mdSPppG9v9OmnIyY.png\n",
            "Predicted: rock\n",
            " \n",
            "test/scissors/nPGqkGXIocWAZgzO.png\n",
            "Predicted: scissors\n",
            " \n",
            "test/scissors/lGC1Z9CaHybrKaoK.png\n",
            "Predicted: rock\n",
            " \n",
            "test/scissors/jL3CMVgsLdWznnKe.png\n",
            "Predicted: scissors\n",
            " \n",
            "test/scissors/mfrG6yVMg6CEzoCN.png\n",
            "Predicted: scissors\n",
            " \n",
            "test/scissors/lMMb00aQLU5FP5rd.png\n",
            "Predicted: rock\n",
            " \n",
            "test/scissors/jMVjrTQfvJ0xLTOt.png\n",
            "Predicted: scissors\n",
            " \n",
            "test/scissors/mmLhBFvXWgD957XY.png\n",
            "Predicted: scissors\n",
            " \n",
            "test/scissors/mrWRR4bVPDvIIg7D.png\n",
            "Predicted: scissors\n",
            " \n"
          ],
          "name": "stdout"
        },
        {
          "output_type": "display_data",
          "data": {
            "image/png": "[encoded data removed]",
            "text/plain": [
              "<Figure size 432x288 with 1 Axes>"
            ]
          },
          "metadata": {
            "tags": [],
            "needs_background": "light"
          }
        }
      ]
    },
    {
      "cell_type": "code",
      "metadata": {
        "id": "Kbg2YtU8sz1t"
      },
      "source": [
        ""
      ],
      "execution_count": null,
      "outputs": []
    }
  ]
}